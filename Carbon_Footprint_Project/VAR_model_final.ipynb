{
 "cells": [
  {
   "cell_type": "code",
   "execution_count": 1,
   "metadata": {
    "colab": {
     "base_uri": "https://localhost:8080/"
    },
    "id": "9m5zVh0567Mg",
    "outputId": "dcb2d7fd-7fcf-4773-b9ee-2a5a82d40796",
    "scrolled": false
   },
   "outputs": [],
   "source": [
    "from statsmodels.tsa.statespace.varmax import VARMAX\n",
    "from statsmodels.tsa.api import VAR\n",
    "\n",
    "import pandas as pd\n",
    "import numpy as np\n"
   ]
  },
  {
   "cell_type": "markdown",
   "metadata": {},
   "source": [
    "## Load Data"
   ]
  },
  {
   "cell_type": "code",
   "execution_count": 2,
   "metadata": {
    "colab": {
     "base_uri": "https://localhost:8080/",
     "height": 251
    },
    "id": "4jQe30yK680d",
    "outputId": "1c80454e-dd3c-465f-923c-d8833e6b5388"
   },
   "outputs": [],
   "source": [
    "filepath = r'C:\\Users\\Aaron\\Documents\\MSc Computer Science\\CSE 6242 DVA\\Project\\Model\\tidy_dataset2_v4.csv'\n",
    "df_original = pd.read_csv(filepath)"
   ]
  },
  {
   "cell_type": "code",
   "execution_count": 3,
   "metadata": {},
   "outputs": [
    {
     "data": {
      "text/html": [
       "<div>\n",
       "<style scoped>\n",
       "    .dataframe tbody tr th:only-of-type {\n",
       "        vertical-align: middle;\n",
       "    }\n",
       "\n",
       "    .dataframe tbody tr th {\n",
       "        vertical-align: top;\n",
       "    }\n",
       "\n",
       "    .dataframe thead th {\n",
       "        text-align: right;\n",
       "    }\n",
       "</style>\n",
       "<table border=\"1\" class=\"dataframe\">\n",
       "  <thead>\n",
       "    <tr style=\"text-align: right;\">\n",
       "      <th></th>\n",
       "      <th>State</th>\n",
       "      <th>Year</th>\n",
       "      <th>CO2</th>\n",
       "      <th>consumer_goods</th>\n",
       "      <th>leisure</th>\n",
       "      <th>nutrition</th>\n",
       "      <th>mobility</th>\n",
       "      <th>housing</th>\n",
       "      <th>services</th>\n",
       "    </tr>\n",
       "  </thead>\n",
       "  <tbody>\n",
       "    <tr>\n",
       "      <th>0</th>\n",
       "      <td>Alabama</td>\n",
       "      <td>1997</td>\n",
       "      <td>8.812122e+07</td>\n",
       "      <td>7054.8</td>\n",
       "      <td>4685.5</td>\n",
       "      <td>7747.3</td>\n",
       "      <td>4758.1</td>\n",
       "      <td>13167.0</td>\n",
       "      <td>23703.9</td>\n",
       "    </tr>\n",
       "    <tr>\n",
       "      <th>1</th>\n",
       "      <td>Alabama</td>\n",
       "      <td>1998</td>\n",
       "      <td>8.502097e+07</td>\n",
       "      <td>7562.6</td>\n",
       "      <td>4865.6</td>\n",
       "      <td>7866.4</td>\n",
       "      <td>4597.8</td>\n",
       "      <td>13826.6</td>\n",
       "      <td>24828.4</td>\n",
       "    </tr>\n",
       "    <tr>\n",
       "      <th>2</th>\n",
       "      <td>Alabama</td>\n",
       "      <td>1999</td>\n",
       "      <td>8.784891e+07</td>\n",
       "      <td>8201.6</td>\n",
       "      <td>5141.0</td>\n",
       "      <td>8166.4</td>\n",
       "      <td>4975.7</td>\n",
       "      <td>14515.5</td>\n",
       "      <td>25752.1</td>\n",
       "    </tr>\n",
       "    <tr>\n",
       "      <th>3</th>\n",
       "      <td>Alabama</td>\n",
       "      <td>2000</td>\n",
       "      <td>9.621875e+07</td>\n",
       "      <td>8358.4</td>\n",
       "      <td>5348.3</td>\n",
       "      <td>8335.8</td>\n",
       "      <td>5779.5</td>\n",
       "      <td>15473.6</td>\n",
       "      <td>27456.8</td>\n",
       "    </tr>\n",
       "    <tr>\n",
       "      <th>4</th>\n",
       "      <td>Alabama</td>\n",
       "      <td>2001</td>\n",
       "      <td>1.038840e+08</td>\n",
       "      <td>8629.9</td>\n",
       "      <td>5378.3</td>\n",
       "      <td>8794.1</td>\n",
       "      <td>5540.9</td>\n",
       "      <td>16588.3</td>\n",
       "      <td>28581.8</td>\n",
       "    </tr>\n",
       "  </tbody>\n",
       "</table>\n",
       "</div>"
      ],
      "text/plain": [
       "     State  Year           CO2  consumer_goods  leisure  nutrition  mobility  \\\n",
       "0  Alabama  1997  8.812122e+07          7054.8   4685.5     7747.3    4758.1   \n",
       "1  Alabama  1998  8.502097e+07          7562.6   4865.6     7866.4    4597.8   \n",
       "2  Alabama  1999  8.784891e+07          8201.6   5141.0     8166.4    4975.7   \n",
       "3  Alabama  2000  9.621875e+07          8358.4   5348.3     8335.8    5779.5   \n",
       "4  Alabama  2001  1.038840e+08          8629.9   5378.3     8794.1    5540.9   \n",
       "\n",
       "   housing  services  \n",
       "0  13167.0   23703.9  \n",
       "1  13826.6   24828.4  \n",
       "2  14515.5   25752.1  \n",
       "3  15473.6   27456.8  \n",
       "4  16588.3   28581.8  "
      ]
     },
     "execution_count": 3,
     "metadata": {},
     "output_type": "execute_result"
    }
   ],
   "source": [
    "# DATA 2\n",
    "\n",
    "df_original['consumer_goods'] = df_original['Motor_vehicles_and_parts'] + df_original['Furnishings_and_durable_household_equipment'] \n",
    "+ df_original['Other_durable_goods'] + df_original['Clothing_and_footwear'] + df_original['Other_nondurable_goods']\n",
    "\n",
    "df_original['leisure'] = df_original['Recreational_goods_and_vehicles'] + df_original['Recreation_services'] \n",
    "+ df_original['Food_services_and_accommodations']\n",
    "\n",
    "df_original['nutrition'] = df_original['Food_and_beverages_purchased_for_off-premises_consumption']\n",
    "\n",
    "df_original['mobility'] = df_original['Gasoline_and_other_energy_goods'] + df_original['Transportation_services']\n",
    "\n",
    "df_original['housing'] = df_original['Housing_and_utilities']\n",
    "\n",
    "df_original['services'] = df_original['Health_care'] + df_original['Financial_services_and_insurance'] + df_original['Other_services']\n",
    "\n",
    "# drop original variables\n",
    "\n",
    "df = df_original[['State', 'Year', 'CO2', 'consumer_goods', 'leisure', 'nutrition', 'mobility', 'housing', 'services']]\n",
    "\n",
    "df.head()"
   ]
  },
  {
   "cell_type": "markdown",
   "metadata": {},
   "source": [
    "## Run VAR Model for each state"
   ]
  },
  {
   "cell_type": "code",
   "execution_count": 4,
   "metadata": {
    "id": "c1MxkA1_LpGn"
   },
   "outputs": [],
   "source": [
    "models =[]\n",
    "state_predicted_CO2 = []\n",
    "for state, state_df in df.groupby('State'):\n",
    "    temp_df = state_df.set_index('Year')\n",
    "    \n",
    "    train_df = temp_df[:-5]\n",
    "    test_df = temp_df[-5:]\n",
    "    \n",
    "    models.append(VAR(train_df[train_df.columns[~train_df.columns.isin(['State', 'Year'])]].diff()[1:]))\n",
    "    "
   ]
  },
  {
   "cell_type": "code",
   "execution_count": 37,
   "metadata": {},
   "outputs": [
    {
     "name": "stdout",
     "output_type": "stream",
     "text": [
      " VAR Order Selection (* highlights the minimums) \n",
      "=================================================\n",
      "      AIC         BIC         FPE         HQIC   \n",
      "-------------------------------------------------\n",
      "0       103.2       103.5   6.302e+44       103.2\n",
      "1      100.7*      103.4*  8.243e+43*      101.0*\n",
      "-------------------------------------------------\n"
     ]
    }
   ],
   "source": [
    "sorted_order=models[5].select_order()\n",
    "print(sorted_order.summary())"
   ]
  },
  {
   "cell_type": "code",
   "execution_count": 26,
   "metadata": {},
   "outputs": [],
   "source": [
    "var_models=[]\n",
    "predict=[]\n",
    "predictions=[]\n",
    "mdape=[]\n",
    "\n",
    "n_forecast = 5\n",
    "\n",
    "\n",
    "for state, state_df in df.groupby('State'):\n",
    "    train_df = state_df[:-5]\n",
    "    train_df = train_df.set_index('Year')\n",
    "    test_df = state_df[-5:]\n",
    "\n",
    "    var_model = VARMAX(train_df[train_df.columns[~train_df.columns.isin(['State'])]], order=(1,0),enforce_stationarity= True)\n",
    "    var_models.append(var_model.fit(disp=False))\n",
    "    \n",
    "    predict.append(var_models[-1].get_prediction(start=len(train_df),end=len(train_df) + n_forecast-1))\n",
    "\n",
    "    predictions.append(predict[-1].predicted_mean)\n",
    "    \n",
    "    mdape.append(np.median((np.abs(np.subtract(test_df['CO2'].reset_index(), predictions[-1]['CO2'].reset_index())/ test_df['CO2'].reset_index()))) * 100)"
   ]
  },
  {
   "cell_type": "code",
   "execution_count": 36,
   "metadata": {},
   "outputs": [],
   "source": [
    "dataset = pd.DataFrame({'State': np.unique(df['State']), 'mape': mdape})\n",
    "dataset\n",
    "dataset.to_csv('VAR_MDAPE.csv')"
   ]
  },
  {
   "cell_type": "code",
   "execution_count": 38,
   "metadata": {},
   "outputs": [
    {
     "data": {
      "text/plain": [
       "68.84029767947061"
      ]
     },
     "execution_count": 38,
     "metadata": {},
     "output_type": "execute_result"
    }
   ],
   "source": [
    "#Mean MDAPE for US\n",
    "np.mean(mdape)"
   ]
  }
 ],
 "metadata": {
  "colab": {
   "collapsed_sections": [],
   "name": "VAR_Model.ipynb",
   "provenance": []
  },
  "kernelspec": {
   "display_name": "Python 3",
   "language": "python",
   "name": "python3"
  },
  "language_info": {
   "codemirror_mode": {
    "name": "ipython",
    "version": 3
   },
   "file_extension": ".py",
   "mimetype": "text/x-python",
   "name": "python",
   "nbconvert_exporter": "python",
   "pygments_lexer": "ipython3",
   "version": "3.9.5"
  }
 },
 "nbformat": 4,
 "nbformat_minor": 1
}
