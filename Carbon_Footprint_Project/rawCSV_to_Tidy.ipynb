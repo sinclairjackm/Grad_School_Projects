{
 "cells": [
  {
   "cell_type": "markdown",
   "id": "79e27a68-9f4c-4f3c-ac90-8bbc8c43817b",
   "metadata": {},
   "source": [
    "### Load CSV files, clean and transform the data to a Tidy structure for the model construction"
   ]
  },
  {
   "cell_type": "markdown",
   "id": "7eb9b79c-c3b9-40d4-84a6-e1c5bebdf4da",
   "metadata": {},
   "source": [
    "After surveying many data sources we decided to use the U.S Bureau of Economics Analysis (https://www.bea.gov/) were we found economic activity data by state in following reports:\n",
    "1. Gross Domestic Product (GDP) (https://apps.bea.gov/regional/downloadzip.cfm, filename: SAGDP2N__ALL_AREAS_1997_2021.csv )\n",
    "2. Personal Income (State and Local) (https://apps.bea.gov/regional/downloadzip.cfm, filename:SAINC50__ALL_AREAS_1948_2021.csv)\n",
    "3. Personal Consumption Expenditures (PCE) by State (https://apps.bea.gov/regional/downloadzip.cfm, filename: SAPCE1__ALL_AREAS_1997_2021.csv)\n",
    "\n",
    "We selected the U.S Environmental Protection Agency (https://www.epa.gov/) as source for CO2 emissions by state. We used the following reports:\n",
    "1. Emissions by Unit and Fuel Type (https://www.epa.gov/system/files/other-files/2022-10/emissions_by_unit_and_fuel_type_c_d_aa_10_2022.zip)\n",
    "2. 2021 Data Summary Spreadsheets (https://www.epa.gov/system/files/other-files/2022-10/2021_data_summary_spreadsheets.zip)"
   ]
  },
  {
   "cell_type": "code",
   "execution_count": 8,
   "id": "47acb555-736d-4973-82c0-023f5be28482",
   "metadata": {},
   "outputs": [],
   "source": [
    "import pandas as pd\n",
    "import os\n",
    "import numpy as np\n",
    "pd.set_option('display.max.columns', None)\n",
    "pd.set_option('display.max_rows', 50)"
   ]
  },
  {
   "cell_type": "code",
   "execution_count": 2,
   "id": "4b77cd96-5027-4943-acec-0fcce4f147e2",
   "metadata": {},
   "outputs": [],
   "source": [
    "pce = pd.read_csv('SAPCE1__ALL_AREAS_1997_2021.csv')\n",
    "#remove agg and non-pprofit data\n",
    "pce = pce[~pce.LineCode.isin([1,2,3,8,13,14,22,23,24])]\n",
    "pce.TableName = 'PCE'\n",
    "\n",
    "gdp = pd.read_csv('SAGDP2N__ALL_AREAS_1997_2021.csv')\n",
    "gdp = gdp[gdp.LineCode==1]\n",
    "gdp.TableName = 'GDP'\n",
    "\n",
    "inc = pd.read_csv('SAINC50__ALL_AREAS_1948_2021.csv')\n",
    "inc = inc[~inc.GeoName.isna()]\n",
    "inc = inc[inc.LineCode.isin([16,20,50])]\n",
    "inc.TableName = 'INC'"
   ]
  },
  {
   "cell_type": "code",
   "execution_count": 3,
   "id": "cb96a4f2-24cd-4a74-b9a6-e35350dcd5f2",
   "metadata": {},
   "outputs": [],
   "source": [
    "#the income dataset has information since 1948, we only need from 1997\n",
    "inc = inc[pce.columns]"
   ]
  },
  {
   "cell_type": "code",
   "execution_count": 4,
   "id": "076c61e3-b45c-4fe3-ac1e-6c60e624633a",
   "metadata": {},
   "outputs": [
    {
     "name": "stderr",
     "output_type": "stream",
     "text": [
      "/var/folders/q_/7x1v0d4x7tn3knm4rt_hm7dr0000gn/T/ipykernel_2762/1108004964.py:3: FutureWarning: The default value of regex will change from True to False in a future version. In addition, single character regular expressions will *not* be treated as literal strings when regex=True.\n",
      "  df.GeoName = df.GeoName.str.replace('*','')\n"
     ]
    }
   ],
   "source": [
    "#concatenate all three datasets and clean the final data\n",
    "df = pd.concat([pce,gdp,inc])\n",
    "df = df[~df['GeoName'].isna()]\n",
    "df.GeoName = df.GeoName.str.replace('*','')\n",
    "df.GeoName = df.GeoName.str.strip()\n",
    "df.Description = df.Description.str.strip()"
   ]
  },
  {
   "cell_type": "code",
   "execution_count": null,
   "id": "b779fd6c-7736-4b37-9c2c-2ec05b42a28b",
   "metadata": {
    "tags": []
   },
   "outputs": [],
   "source": [
    "#Transform data to a Tidy structure\n",
    "cols_to_stack = ['1997', '1998',\n",
    "       '1999', '2000', '2001', '2002', '2003', '2004', '2005', '2006', '2007',\n",
    "       '2008', '2009', '2010', '2011', '2012', '2013', '2014', '2015', '2016',\n",
    "       '2017', '2018', '2019', '2020', '2021']\n",
    "df = df.melt(id_vars = ['GeoName','Description'], value_vars = cols_to_stack ,var_name = \"Year\", value_name = \"Measures\")\n",
    "\n",
    "df = df.pivot(index = ['GeoName', 'Year'], columns='Description', values = 'Measures').reset_index()"
   ]
  },
  {
   "cell_type": "code",
   "execution_count": null,
   "id": "09c4bdad-26a3-4d52-a245-a78bd14e2bd9",
   "metadata": {
    "tags": []
   },
   "outputs": [],
   "source": [
    "#Rename columns\n",
    "cols = ['GeoName', 'Year', 'Motor vehicles and parts',\n",
    "       'Furnishings and durable household equipment',\n",
    "       'Recreational goods and vehicles', 'Other durable goods',\n",
    "       'Food and beverages purchased for off-premises consumption',\n",
    "       'Clothing and footwear', 'Gasoline and other energy goods',\n",
    "       'Other nondurable goods', 'Housing and utilities', 'Health care',\n",
    "       'Transportation services', 'Recreation services',\n",
    "       'Food services and accommodations',\n",
    "       'Financial services and insurance', 'Other services',\n",
    "       'All industry total', 'Equals: Disposable personal income',\n",
    "       'Population (persons) 1/']\n",
    "df = df[cols]\n",
    "\n",
    "cols = [ s.replace(' ','_') for s in df.columns.tolist()]\n",
    "df.columns = cols\n",
    "\n",
    "df.rename(columns={'GeoName':'State','All_industry_total':'GDP', 'Equals:_Disposable_personal_income' : 'Disposable_personal_income',\n",
    "                   'Population_(persons)_1/':'Population' }, inplace=True)"
   ]
  },
  {
   "cell_type": "code",
   "execution_count": null,
   "id": "35f5df5e-3933-4544-b865-72421f9cd41c",
   "metadata": {},
   "outputs": [],
   "source": [
    "#The data corresponding to CO2 emissions are in separate spreadsheets by year\n",
    "#To open each file and build a dataset\n",
    "co2 = pd.DataFrame()\n",
    "directory = '2021_data_summary_spreadsheets/'\n",
    "for filename in os.listdir(directory):\n",
    "    if filename.endswith(\".xlsx\"):\n",
    "        # print(os.path.join(directory, filename))\n",
    "        data = pd.read_excel(directory+filename, skiprows=3)\n",
    "        data['Year'] = filename\n",
    "        co2 = pd.concat([co2, data])\n",
    "        print('file', filename, ' done!')\n",
    "    else:\n",
    "        continue\n",
    "\n",
    "co2.Year = co2.Year.str.extract(r'(\\d+)')\n",
    "co2['CO2'] = co2['CO2 emissions (non-biogenic) '] + co2['Biogenic CO2 emissions (metric tons)'].fillna(0)\n",
    "co2.rename(columns={'Methane (CH4) emissions ':'CH4','Nitrous Oxide (N2O) emissions ':'N2O'} , inplace=True)\n",
    "co2 = co2.groupby(['Year','State'], as_index=False, sort=True)['CO2','CH4','N2O'].sum().round(2)"
   ]
  },
  {
   "cell_type": "code",
   "execution_count": null,
   "id": "f8b479a4-d725-4de1-b565-9c67a7c13ce0",
   "metadata": {},
   "outputs": [],
   "source": [
    "states = {\"AL\":\"Alabama\",\"AK\":\"Alaska\",\"AZ\":\"Arizona\",\"AR\":\"Arkansas\",\"CA\":\"California\"\n",
    "          ,\"CO\":\"Colorado\",\"CT\":\"Connecticut\",\"DE\":\"Delaware\",\"FL\":\"Florida\",\"GA\":\"Georgia\"\n",
    "          ,\"HI\":\"Hawaii\",\"ID\":\"Idaho\",\"IL\":\"Illinois\",\"IN\":\"Indiana\",\"IA\":\"Iowa\",\"KS\":\"Kansas\"\n",
    "          ,\"KY\":\"Kentucky\",\"LA\":\"Louisiana\",\"ME\":\"Maine\",\"MD\":\"Maryland\",\"MA\":\"Massachusetts\"\n",
    "          ,\"MI\":\"Michigan\",\"MN\":\"Minnesota\",\"MS\":\"Mississippi\",\"MO\":\"Missouri\",\"MT\":\"Montana\"\n",
    "          ,\"NE\":\"Nebraska\",\"NV\":\"Nevada\",\"NH\":\"New Hampshire\",\"NJ\":\"New Jersey\",\"NM\":\"New Mexico\"\n",
    "          ,\"NY\":\"New York\",\"NC\":\"North Carolina\",\"ND\":\"North Dakota\",\"OH\":\"Ohio\",\"OK\":\"Oklahoma\"\n",
    "          ,\"OR\":\"Oregon\",\"PA\":\"Pennsylvania\",\"RI\":\"Rhode Island\",\"SC\":\"South Carolina\",\"SD\":\"South Dakota\"\n",
    "          ,\"TN\":\"Tennessee\",\"TX\":\"Texas\",\"UT\":\"Utah\",\"VT\":\"Vermont\",\"VA\":\"Virginia\",\"WA\":\"Washington\"\n",
    "          ,\"WV\":\"West Virginia\",\"WI\":\"Wisconsin\",\"WY\":\"Wyoming\"}\n",
    "\n",
    "co2['State'] = co2['State'].map(states)"
   ]
  },
  {
   "cell_type": "code",
   "execution_count": null,
   "id": "b50498b2-a7e5-4940-be0e-2cd71a05b0a6",
   "metadata": {
    "tags": []
   },
   "outputs": [],
   "source": [
    "df = df[df.State.isin(states.values())]\n",
    "co2 = co2[co2.State.isin(states.values())]\n",
    "\n",
    "final = df.merge(co2, how='left').reset_index(drop=True)"
   ]
  },
  {
   "cell_type": "code",
   "execution_count": null,
   "id": "494fb621-119f-4175-9b3f-16e78b270189",
   "metadata": {},
   "outputs": [],
   "source": [
    "# To create a linear regression model and estimate C02 emissions by state from 1997 to 2009 using the economic and consumption data as observations\n",
    "from sklearn.linear_model import LinearRegression"
   ]
  },
  {
   "cell_type": "code",
   "execution_count": null,
   "id": "887e8179-d342-49ca-bba1-448fabe54088",
   "metadata": {},
   "outputs": [],
   "source": [
    "df = final.copy()\n",
    "final = pd.DataFrame()\n",
    "for s in df.State.unique():\n",
    "    print(s, df[df.State==s].shape)\n",
    "    df1 = df[df.State==s]\n",
    "\n",
    "    X = df1[~df1.CO2.isna()].iloc[:,2:-3]\n",
    "    y = df1[~df1.CO2.isna()].iloc[:,-3:]\n",
    "    regr = LinearRegression().fit(X,y)\n",
    "    \n",
    "    tp = df1[df1.CO2.isna()].iloc[:,2:-3]\n",
    "    pred = regr.predict(tp)\n",
    "    df1.loc[df1[df1.CO2.isna()].index,['CO2','CH4','N2O']] = pred\n",
    "    \n",
    "    final = pd.concat([final, df1])"
   ]
  },
  {
   "cell_type": "code",
   "execution_count": null,
   "id": "530ab0ed-2b70-434c-b1b2-d913da8a8dbb",
   "metadata": {},
   "outputs": [],
   "source": [
    "final = final[['State', 'Year', 'Motor_vehicles_and_parts',\n",
    "       'Furnishings_and_durable_household_equipment',\n",
    "       'Recreational_goods_and_vehicles', 'Other_durable_goods',\n",
    "       'Food_and_beverages_purchased_for_off-premises_consumption',\n",
    "       'Clothing_and_footwear', 'Gasoline_and_other_energy_goods',\n",
    "       'Other_nondurable_goods', 'Housing_and_utilities', 'Health_care',\n",
    "       'Transportation_services', 'Recreation_services',\n",
    "       'Food_services_and_accommodations', 'Financial_services_and_insurance',\n",
    "       'Other_services', 'GDP', 'Disposable_personal_income', 'Population',\n",
    "       'CO2']]"
   ]
  },
  {
   "cell_type": "code",
   "execution_count": null,
   "id": "f571301a-5c7a-437a-9b98-3caffb40dcd2",
   "metadata": {},
   "outputs": [],
   "source": [
    "#To find negative values predicted by the linear regression\n",
    "df = final.copy()\n",
    "df[df.CO2<=0].State.value_counts()"
   ]
  },
  {
   "cell_type": "code",
   "execution_count": null,
   "id": "4e47695c-5928-4af1-8841-c7e4a8d33ab1",
   "metadata": {},
   "outputs": [],
   "source": [
    "#To replace negative values by moving average imputation\n",
    "for i,v in df.CO2.iloc[::-1].items():\n",
    "    if v <=0:\n",
    "        df.loc[i,'CO2'] = sum(df.loc[i+1:i+3,'CO2'])/3"
   ]
  },
  {
   "cell_type": "code",
   "execution_count": null,
   "id": "117e9b08-4c86-4cb2-9ca2-51dc2d3253cb",
   "metadata": {
    "tags": []
   },
   "outputs": [],
   "source": [
    "final.to_csv('tidy_dataset2_v4.csv', index = False, encoding='utf-8')"
   ]
  }
 ],
 "metadata": {
  "kernelspec": {
   "display_name": "Python 3 (ipykernel)",
   "language": "python",
   "name": "python3"
  },
  "language_info": {
   "codemirror_mode": {
    "name": "ipython",
    "version": 3
   },
   "file_extension": ".py",
   "mimetype": "text/x-python",
   "name": "python",
   "nbconvert_exporter": "python",
   "pygments_lexer": "ipython3",
   "version": "3.9.6"
  }
 },
 "nbformat": 4,
 "nbformat_minor": 5
}
